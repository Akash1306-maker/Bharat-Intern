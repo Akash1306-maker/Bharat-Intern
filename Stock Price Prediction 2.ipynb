{
 "cells": [
  {
   "cell_type": "code",
   "execution_count": 1,
   "id": "9039746f",
   "metadata": {},
   "outputs": [],
   "source": [
    "import pandas as pd\n",
    "import numpy as np"
   ]
  },
  {
   "cell_type": "code",
   "execution_count": 2,
   "id": "088c7178",
   "metadata": {},
   "outputs": [
    {
     "data": {
      "text/html": [
       "<div>\n",
       "<style scoped>\n",
       "    .dataframe tbody tr th:only-of-type {\n",
       "        vertical-align: middle;\n",
       "    }\n",
       "\n",
       "    .dataframe tbody tr th {\n",
       "        vertical-align: top;\n",
       "    }\n",
       "\n",
       "    .dataframe thead th {\n",
       "        text-align: right;\n",
       "    }\n",
       "</style>\n",
       "<table border=\"1\" class=\"dataframe\">\n",
       "  <thead>\n",
       "    <tr style=\"text-align: right;\">\n",
       "      <th></th>\n",
       "      <th>Date</th>\n",
       "      <th>Open</th>\n",
       "      <th>High</th>\n",
       "      <th>Low</th>\n",
       "      <th>Close</th>\n",
       "      <th>Volume</th>\n",
       "    </tr>\n",
       "  </thead>\n",
       "  <tbody>\n",
       "    <tr>\n",
       "      <th>0</th>\n",
       "      <td>21-07-2014</td>\n",
       "      <td>83.46</td>\n",
       "      <td>83.53</td>\n",
       "      <td>81.81</td>\n",
       "      <td>81.93</td>\n",
       "      <td>2359300</td>\n",
       "    </tr>\n",
       "    <tr>\n",
       "      <th>1</th>\n",
       "      <td>18-07-2014</td>\n",
       "      <td>83.30</td>\n",
       "      <td>83.40</td>\n",
       "      <td>82.52</td>\n",
       "      <td>83.35</td>\n",
       "      <td>4020800</td>\n",
       "    </tr>\n",
       "    <tr>\n",
       "      <th>2</th>\n",
       "      <td>17-07-2014</td>\n",
       "      <td>84.35</td>\n",
       "      <td>84.63</td>\n",
       "      <td>83.33</td>\n",
       "      <td>83.63</td>\n",
       "      <td>1974000</td>\n",
       "    </tr>\n",
       "    <tr>\n",
       "      <th>3</th>\n",
       "      <td>16-07-2014</td>\n",
       "      <td>83.77</td>\n",
       "      <td>84.91</td>\n",
       "      <td>83.66</td>\n",
       "      <td>84.91</td>\n",
       "      <td>1755600</td>\n",
       "    </tr>\n",
       "    <tr>\n",
       "      <th>4</th>\n",
       "      <td>15-07-2014</td>\n",
       "      <td>84.30</td>\n",
       "      <td>84.38</td>\n",
       "      <td>83.20</td>\n",
       "      <td>83.58</td>\n",
       "      <td>1874700</td>\n",
       "    </tr>\n",
       "  </tbody>\n",
       "</table>\n",
       "</div>"
      ],
      "text/plain": [
       "         Date   Open   High    Low  Close   Volume\n",
       "0  21-07-2014  83.46  83.53  81.81  81.93  2359300\n",
       "1  18-07-2014  83.30  83.40  82.52  83.35  4020800\n",
       "2  17-07-2014  84.35  84.63  83.33  83.63  1974000\n",
       "3  16-07-2014  83.77  84.91  83.66  84.91  1755600\n",
       "4  15-07-2014  84.30  84.38  83.20  83.58  1874700"
      ]
     },
     "execution_count": 2,
     "metadata": {},
     "output_type": "execute_result"
    }
   ],
   "source": [
    "mystock_data = pd.read_csv('data.tsv', sep=\"\\t\")\n",
    "mystock_data.head()"
   ]
  },
  {
   "cell_type": "code",
   "execution_count": 3,
   "id": "5ad77c26",
   "metadata": {},
   "outputs": [
    {
     "data": {
      "text/plain": [
       "'21-07-2014'"
      ]
     },
     "execution_count": 3,
     "metadata": {},
     "output_type": "execute_result"
    }
   ],
   "source": [
    "mystock_data[\"Date\"].iloc[0]"
   ]
  },
  {
   "cell_type": "code",
   "execution_count": 4,
   "id": "a4c8567e",
   "metadata": {},
   "outputs": [
    {
     "data": {
      "text/html": [
       "<div>\n",
       "<style scoped>\n",
       "    .dataframe tbody tr th:only-of-type {\n",
       "        vertical-align: middle;\n",
       "    }\n",
       "\n",
       "    .dataframe tbody tr th {\n",
       "        vertical-align: top;\n",
       "    }\n",
       "\n",
       "    .dataframe thead th {\n",
       "        text-align: right;\n",
       "    }\n",
       "</style>\n",
       "<table border=\"1\" class=\"dataframe\">\n",
       "  <thead>\n",
       "    <tr style=\"text-align: right;\">\n",
       "      <th></th>\n",
       "      <th>Open</th>\n",
       "      <th>Close</th>\n",
       "    </tr>\n",
       "    <tr>\n",
       "      <th>Date</th>\n",
       "      <th></th>\n",
       "      <th></th>\n",
       "    </tr>\n",
       "  </thead>\n",
       "  <tbody>\n",
       "    <tr>\n",
       "      <th>2014-07-21</th>\n",
       "      <td>83.46</td>\n",
       "      <td>81.93</td>\n",
       "    </tr>\n",
       "    <tr>\n",
       "      <th>2014-07-18</th>\n",
       "      <td>83.30</td>\n",
       "      <td>83.35</td>\n",
       "    </tr>\n",
       "    <tr>\n",
       "      <th>2014-07-17</th>\n",
       "      <td>84.35</td>\n",
       "      <td>83.63</td>\n",
       "    </tr>\n",
       "    <tr>\n",
       "      <th>2014-07-16</th>\n",
       "      <td>83.77</td>\n",
       "      <td>84.91</td>\n",
       "    </tr>\n",
       "    <tr>\n",
       "      <th>2014-07-15</th>\n",
       "      <td>84.30</td>\n",
       "      <td>83.58</td>\n",
       "    </tr>\n",
       "  </tbody>\n",
       "</table>\n",
       "</div>"
      ],
      "text/plain": [
       "             Open  Close\n",
       "Date                    \n",
       "2014-07-21  83.46  81.93\n",
       "2014-07-18  83.30  83.35\n",
       "2014-07-17  84.35  83.63\n",
       "2014-07-16  83.77  84.91\n",
       "2014-07-15  84.30  83.58"
      ]
     },
     "execution_count": 4,
     "metadata": {},
     "output_type": "execute_result"
    }
   ],
   "source": [
    "mystock_data = mystock_data [['Date','Open','Close']] \n",
    "mystock_data ['Date'] = pd.to_datetime(mystock_data['Date'])\n",
    "mystock_data.set_index('Date',drop=True,inplace=True) \n",
    "mystock_data.head()"
   ]
  },
  {
   "cell_type": "code",
   "execution_count": 6,
   "id": "31be98ee",
   "metadata": {},
   "outputs": [],
   "source": [
    "from sklearn.preprocessing import MinMaxScaler\n",
    "Ms = MinMaxScaler()\n",
    "mystock_data[mystock_data.columns] = Ms.fit_transform(mystock_data)\n",
    "training_size = round(len(mystock_data) * 0.8)\n",
    "train_data = mystock_data[:training_size]\n",
    "test_data  = mystock_data[training_size:]"
   ]
  },
  {
   "cell_type": "code",
   "execution_count": 7,
   "id": "9ab36d02",
   "metadata": {},
   "outputs": [],
   "source": [
    "# train_data.reset_index()"
   ]
  },
  {
   "cell_type": "code",
   "execution_count": 8,
   "id": "9a193981",
   "metadata": {},
   "outputs": [],
   "source": [
    "def create_sequence(dataset):\n",
    "    sequences = []\n",
    "    labels = []\n",
    "    start_idx = 0\n",
    "    for stop_idx in range(50,len(dataset)): \n",
    "        sequences.append(dataset.iloc[start_idx:stop_idx])\n",
    "        labels.append(dataset.iloc[stop_idx])\n",
    "        start_idx += 1\n",
    "    return np.array(sequences), np.array(labels)"
   ]
  },
  {
   "cell_type": "code",
   "execution_count": 9,
   "id": "6b89f606",
   "metadata": {},
   "outputs": [],
   "source": [
    "train_seq,train_label = create_sequence(train_data)\n",
    "test_seq,test_label = create_sequence(test_data)"
   ]
  },
  {
   "cell_type": "code",
   "execution_count": 10,
   "id": "b2f6a1af",
   "metadata": {},
   "outputs": [
    {
     "data": {
      "text/plain": [
       "(2964, 50, 2)"
      ]
     },
     "execution_count": 10,
     "metadata": {},
     "output_type": "execute_result"
    }
   ],
   "source": [
    "train_seq.shape"
   ]
  },
  {
   "cell_type": "code",
   "execution_count": null,
   "id": "e02132cb",
   "metadata": {},
   "outputs": [],
   "source": []
  },
  {
   "cell_type": "code",
   "execution_count": 11,
   "id": "b0c38593",
   "metadata": {},
   "outputs": [],
   "source": [
    "from keras.models import Sequential\n",
    "from keras.layers import Dense, Dropout, LSTM, Bidirectional\n",
    "import tensorflow as tf"
   ]
  },
  {
   "cell_type": "code",
   "execution_count": 12,
   "id": "16f3fd08",
   "metadata": {},
   "outputs": [],
   "source": [
    "train_seq_tensor = tf.convert_to_tensor(train_seq)\n",
    "train_label_tensor = tf.convert_to_tensor(train_label)\n",
    "test_seq_tensor = tf.convert_to_tensor(test_seq)\n",
    "test_label_tensor = tf.convert_to_tensor(test_label)"
   ]
  },
  {
   "cell_type": "code",
   "execution_count": 13,
   "id": "9f3a3846",
   "metadata": {},
   "outputs": [
    {
     "data": {
      "text/plain": [
       "<tf.Tensor: shape=(2964, 50, 2), dtype=float64, numpy=\n",
       "array([[[0.74451429, 0.73029339],\n",
       "        [0.74261653, 0.74702486],\n",
       "        [0.75507057, 0.75032402],\n",
       "        ...,\n",
       "        [0.74854703, 0.74490397],\n",
       "        [0.74510734, 0.75103099],\n",
       "        [0.7493773 , 0.74867444]],\n",
       "\n",
       "       [[0.74261653, 0.74702486],\n",
       "        [0.75507057, 0.75032402],\n",
       "        [0.7481912 , 0.76540591],\n",
       "        ...,\n",
       "        [0.74510734, 0.75103099],\n",
       "        [0.7493773 , 0.74867444],\n",
       "        [0.7326533 , 0.74879227]],\n",
       "\n",
       "       [[0.75507057, 0.75032402],\n",
       "        [0.7481912 , 0.76540591],\n",
       "        [0.75447752, 0.74973489],\n",
       "        ...,\n",
       "        [0.7493773 , 0.74867444],\n",
       "        [0.7326533 , 0.74879227],\n",
       "        [0.72826474, 0.73618475]],\n",
       "\n",
       "       ...,\n",
       "\n",
       "       [[0.16083501, 0.16083422],\n",
       "        [0.15193927, 0.17497349],\n",
       "        [0.16486775, 0.15906681],\n",
       "        ...,\n",
       "        [0.24089669, 0.24131024],\n",
       "        [0.21764915, 0.24555202],\n",
       "        [0.21978413, 0.22446094]],\n",
       "\n",
       "       [[0.15193927, 0.17497349],\n",
       "        [0.16486775, 0.15906681],\n",
       "        [0.16617246, 0.17355956],\n",
       "        ...,\n",
       "        [0.21764915, 0.24555202],\n",
       "        [0.21978413, 0.22446094],\n",
       "        [0.21053256, 0.22151526]],\n",
       "\n",
       "       [[0.16486775, 0.15906681],\n",
       "        [0.16617246, 0.17355956],\n",
       "        [0.14422963, 0.17685873],\n",
       "        ...,\n",
       "        [0.21978413, 0.22446094],\n",
       "        [0.21053256, 0.22151526],\n",
       "        [0.18989444, 0.21786261]]])>"
      ]
     },
     "execution_count": 13,
     "metadata": {},
     "output_type": "execute_result"
    }
   ],
   "source": [
    "train_seq_tensor"
   ]
  },
  {
   "cell_type": "code",
   "execution_count": null,
   "id": "9fd8302b",
   "metadata": {},
   "outputs": [],
   "source": []
  },
  {
   "cell_type": "code",
   "execution_count": 14,
   "id": "c7c47c8a",
   "metadata": {},
   "outputs": [],
   "source": [
    "models = Sequential()\n",
    "models.add(LSTM(units=50, return_sequences=True, input_shape = (train_seq_tensor.shape[1], train_seq_tensor.shape[2])))\n",
    "# models.add(LSTM(units=20, return_sequences=True, input_shape = (, train_seq_tensor.shape[2])))"
   ]
  },
  {
   "cell_type": "code",
   "execution_count": 15,
   "id": "1e860d5e",
   "metadata": {},
   "outputs": [],
   "source": [
    "models.add(Dropout(0.1)) \n",
    "models.add(LSTM(units=50))\n",
    "# models.add(Dropout(0.1)) \n",
    "# models.add(LSTM(units=20))"
   ]
  },
  {
   "cell_type": "code",
   "execution_count": 16,
   "id": "a388c8f8",
   "metadata": {},
   "outputs": [
    {
     "name": "stdout",
     "output_type": "stream",
     "text": [
      "Model: \"sequential\"\n",
      "_________________________________________________________________\n",
      "Layer (type)                 Output Shape              Param #   \n",
      "=================================================================\n",
      "lstm (LSTM)                  (None, 50, 50)            10600     \n",
      "_________________________________________________________________\n",
      "dropout (Dropout)            (None, 50, 50)            0         \n",
      "_________________________________________________________________\n",
      "lstm_1 (LSTM)                (None, 50)                20200     \n",
      "_________________________________________________________________\n",
      "dense (Dense)                (None, 2)                 102       \n",
      "=================================================================\n",
      "Total params: 30,902\n",
      "Trainable params: 30,902\n",
      "Non-trainable params: 0\n",
      "_________________________________________________________________\n"
     ]
    }
   ],
   "source": [
    "models.add(Dense(2))\n",
    "\n",
    "models.compile(loss='mean_squared_error', optimizer='adam', metrics=['mean_absolute_error'])\n",
    "\n",
    "models.summary()"
   ]
  },
  {
   "cell_type": "code",
   "execution_count": 17,
   "id": "4f2e42c7",
   "metadata": {},
   "outputs": [
    {
     "name": "stdout",
     "output_type": "stream",
     "text": [
      "Epoch 1/80\n",
      "93/93 [==============================] - 7s 78ms/step - loss: 0.0095 - mean_absolute_error: 0.0536 - val_loss: 6.6951e-04 - val_mean_absolute_error: 0.0200\n",
      "Epoch 2/80\n",
      "93/93 [==============================] - 5s 59ms/step - loss: 0.0014 - mean_absolute_error: 0.0224 - val_loss: 6.0515e-04 - val_mean_absolute_error: 0.0190\n",
      "Epoch 3/80\n",
      "93/93 [==============================] - 4s 41ms/step - loss: 0.0013 - mean_absolute_error: 0.0217 - val_loss: 5.1333e-04 - val_mean_absolute_error: 0.0172\n",
      "Epoch 4/80\n",
      "93/93 [==============================] - 5s 57ms/step - loss: 0.0012 - mean_absolute_error: 0.0208 - val_loss: 4.4371e-04 - val_mean_absolute_error: 0.0159\n",
      "Epoch 5/80\n",
      "93/93 [==============================] - 6s 62ms/step - loss: 0.0011 - mean_absolute_error: 0.0202 - val_loss: 4.1676e-04 - val_mean_absolute_error: 0.0154\n",
      "Epoch 6/80\n",
      "93/93 [==============================] - 4s 46ms/step - loss: 0.0010 - mean_absolute_error: 0.0197 - val_loss: 3.9916e-04 - val_mean_absolute_error: 0.0151\n",
      "Epoch 7/80\n",
      "93/93 [==============================] - 5s 52ms/step - loss: 9.6137e-04 - mean_absolute_error: 0.0193 - val_loss: 3.8041e-04 - val_mean_absolute_error: 0.0146\n",
      "Epoch 8/80\n",
      "93/93 [==============================] - 6s 61ms/step - loss: 9.2081e-04 - mean_absolute_error: 0.0189 - val_loss: 3.4807e-04 - val_mean_absolute_error: 0.0140\n",
      "Epoch 9/80\n",
      "93/93 [==============================] - 5s 54ms/step - loss: 7.9294e-04 - mean_absolute_error: 0.0172 - val_loss: 3.7722e-04 - val_mean_absolute_error: 0.0151\n",
      "Epoch 10/80\n",
      "93/93 [==============================] - 4s 46ms/step - loss: 7.6213e-04 - mean_absolute_error: 0.0171 - val_loss: 3.5090e-04 - val_mean_absolute_error: 0.0145\n",
      "Epoch 11/80\n",
      "93/93 [==============================] - 5s 57ms/step - loss: 6.9147e-04 - mean_absolute_error: 0.0161 - val_loss: 3.6450e-04 - val_mean_absolute_error: 0.0145\n",
      "Epoch 12/80\n",
      "93/93 [==============================] - 5s 57ms/step - loss: 7.1607e-04 - mean_absolute_error: 0.0168 - val_loss: 2.9790e-04 - val_mean_absolute_error: 0.0128\n",
      "Epoch 13/80\n",
      "93/93 [==============================] - 4s 42ms/step - loss: 7.1134e-04 - mean_absolute_error: 0.0167 - val_loss: 2.9234e-04 - val_mean_absolute_error: 0.0131\n",
      "Epoch 14/80\n",
      "93/93 [==============================] - 6s 61ms/step - loss: 6.0730e-04 - mean_absolute_error: 0.0152 - val_loss: 2.7749e-04 - val_mean_absolute_error: 0.0124\n",
      "Epoch 15/80\n",
      "93/93 [==============================] - 6s 61ms/step - loss: 5.7900e-04 - mean_absolute_error: 0.0149 - val_loss: 2.4212e-04 - val_mean_absolute_error: 0.0116\n",
      "Epoch 16/80\n",
      "93/93 [==============================] - 3s 37ms/step - loss: 5.5980e-04 - mean_absolute_error: 0.0147 - val_loss: 2.7415e-04 - val_mean_absolute_error: 0.0128\n",
      "Epoch 17/80\n",
      "93/93 [==============================] - 6s 61ms/step - loss: 5.2855e-04 - mean_absolute_error: 0.0145 - val_loss: 2.3197e-04 - val_mean_absolute_error: 0.0114\n",
      "Epoch 18/80\n",
      "93/93 [==============================] - 6s 61ms/step - loss: 5.7358e-04 - mean_absolute_error: 0.0151 - val_loss: 2.4112e-04 - val_mean_absolute_error: 0.0116\n",
      "Epoch 19/80\n",
      "93/93 [==============================] - 4s 40ms/step - loss: 5.6234e-04 - mean_absolute_error: 0.0148 - val_loss: 2.2145e-04 - val_mean_absolute_error: 0.0111\n",
      "Epoch 20/80\n",
      "93/93 [==============================] - 6s 59ms/step - loss: 4.8022e-04 - mean_absolute_error: 0.0137 - val_loss: 2.1751e-04 - val_mean_absolute_error: 0.0111\n",
      "Epoch 21/80\n",
      "93/93 [==============================] - 5s 58ms/step - loss: 4.8894e-04 - mean_absolute_error: 0.0139 - val_loss: 2.1597e-04 - val_mean_absolute_error: 0.0109\n",
      "Epoch 22/80\n",
      "93/93 [==============================] - 4s 44ms/step - loss: 4.7396e-04 - mean_absolute_error: 0.0139 - val_loss: 2.0111e-04 - val_mean_absolute_error: 0.0105\n",
      "Epoch 23/80\n",
      "93/93 [==============================] - 5s 50ms/step - loss: 4.6833e-04 - mean_absolute_error: 0.0136 - val_loss: 2.8526e-04 - val_mean_absolute_error: 0.0131\n",
      "Epoch 24/80\n",
      "93/93 [==============================] - 5s 58ms/step - loss: 4.3523e-04 - mean_absolute_error: 0.0127 - val_loss: 1.8621e-04 - val_mean_absolute_error: 0.0100\n",
      "Epoch 25/80\n",
      "93/93 [==============================] - 5s 53ms/step - loss: 4.0858e-04 - mean_absolute_error: 0.0127 - val_loss: 1.7763e-04 - val_mean_absolute_error: 0.0098\n",
      "Epoch 26/80\n",
      "93/93 [==============================] - 4s 42ms/step - loss: 3.8180e-04 - mean_absolute_error: 0.0120 - val_loss: 1.7580e-04 - val_mean_absolute_error: 0.0097\n",
      "Epoch 27/80\n",
      "93/93 [==============================] - 5s 54ms/step - loss: 3.7861e-04 - mean_absolute_error: 0.0121 - val_loss: 1.7080e-04 - val_mean_absolute_error: 0.0096\n",
      "Epoch 28/80\n",
      "93/93 [==============================] - 5s 58ms/step - loss: 3.9114e-04 - mean_absolute_error: 0.0120 - val_loss: 1.6873e-04 - val_mean_absolute_error: 0.0095\n",
      "Epoch 29/80\n",
      "93/93 [==============================] - 5s 49ms/step - loss: 3.8970e-04 - mean_absolute_error: 0.0121 - val_loss: 2.3542e-04 - val_mean_absolute_error: 0.0121\n",
      "Epoch 30/80\n",
      "93/93 [==============================] - 5s 55ms/step - loss: 3.6928e-04 - mean_absolute_error: 0.0119 - val_loss: 1.6296e-04 - val_mean_absolute_error: 0.0093\n",
      "Epoch 31/80\n",
      "93/93 [==============================] - 5s 57ms/step - loss: 3.6071e-04 - mean_absolute_error: 0.0119 - val_loss: 1.6242e-04 - val_mean_absolute_error: 0.0095\n",
      "Epoch 32/80\n",
      "93/93 [==============================] - 4s 46ms/step - loss: 3.4197e-04 - mean_absolute_error: 0.0117 - val_loss: 1.8177e-04 - val_mean_absolute_error: 0.0101\n",
      "Epoch 33/80\n",
      "93/93 [==============================] - 5s 55ms/step - loss: 3.3977e-04 - mean_absolute_error: 0.0113 - val_loss: 1.4394e-04 - val_mean_absolute_error: 0.0086\n",
      "Epoch 34/80\n",
      "93/93 [==============================] - 5s 56ms/step - loss: 3.2734e-04 - mean_absolute_error: 0.0111 - val_loss: 1.5472e-04 - val_mean_absolute_error: 0.0092\n",
      "Epoch 35/80\n",
      "93/93 [==============================] - 4s 48ms/step - loss: 3.3364e-04 - mean_absolute_error: 0.0114 - val_loss: 1.8267e-04 - val_mean_absolute_error: 0.0104\n",
      "Epoch 36/80\n",
      "93/93 [==============================] - 5s 49ms/step - loss: 3.3053e-04 - mean_absolute_error: 0.0112 - val_loss: 1.3698e-04 - val_mean_absolute_error: 0.0084\n",
      "Epoch 37/80\n",
      "93/93 [==============================] - 5s 49ms/step - loss: 3.0025e-04 - mean_absolute_error: 0.0105 - val_loss: 1.5815e-04 - val_mean_absolute_error: 0.0092\n",
      "Epoch 38/80\n",
      "93/93 [==============================] - 5s 55ms/step - loss: 3.3719e-04 - mean_absolute_error: 0.0109 - val_loss: 1.3017e-04 - val_mean_absolute_error: 0.0081\n",
      "Epoch 39/80\n",
      "93/93 [==============================] - 4s 38ms/step - loss: 2.9707e-04 - mean_absolute_error: 0.0107 - val_loss: 1.2853e-04 - val_mean_absolute_error: 0.0080\n",
      "Epoch 40/80\n",
      "93/93 [==============================] - 5s 57ms/step - loss: 4.7310e-04 - mean_absolute_error: 0.0148 - val_loss: 1.2634e-04 - val_mean_absolute_error: 0.0080\n",
      "Epoch 41/80\n",
      "93/93 [==============================] - 6s 60ms/step - loss: 2.9312e-04 - mean_absolute_error: 0.0105 - val_loss: 1.2710e-04 - val_mean_absolute_error: 0.0081\n",
      "Epoch 42/80\n",
      "93/93 [==============================] - 4s 43ms/step - loss: 2.9001e-04 - mean_absolute_error: 0.0104 - val_loss: 1.3400e-04 - val_mean_absolute_error: 0.0085\n",
      "Epoch 43/80\n",
      "93/93 [==============================] - 5s 50ms/step - loss: 2.8336e-04 - mean_absolute_error: 0.0103 - val_loss: 1.4082e-04 - val_mean_absolute_error: 0.0085\n",
      "Epoch 44/80\n",
      "93/93 [==============================] - 5s 52ms/step - loss: 2.8684e-04 - mean_absolute_error: 0.0103 - val_loss: 1.1951e-04 - val_mean_absolute_error: 0.0078\n",
      "Epoch 45/80\n",
      "93/93 [==============================] - 5s 56ms/step - loss: 2.6736e-04 - mean_absolute_error: 0.0098 - val_loss: 1.3768e-04 - val_mean_absolute_error: 0.0085\n",
      "Epoch 46/80\n",
      "93/93 [==============================] - 4s 46ms/step - loss: 2.7225e-04 - mean_absolute_error: 0.0100 - val_loss: 1.1479e-04 - val_mean_absolute_error: 0.0075\n",
      "Epoch 47/80\n",
      "93/93 [==============================] - 4s 42ms/step - loss: 2.7796e-04 - mean_absolute_error: 0.0099 - val_loss: 1.2622e-04 - val_mean_absolute_error: 0.0080\n",
      "Epoch 48/80\n",
      "93/93 [==============================] - 5s 49ms/step - loss: 2.7693e-04 - mean_absolute_error: 0.0102 - val_loss: 1.1210e-04 - val_mean_absolute_error: 0.0074\n"
     ]
    },
    {
     "name": "stdout",
     "output_type": "stream",
     "text": [
      "Epoch 49/80\n",
      "93/93 [==============================] - 5s 51ms/step - loss: 2.8565e-04 - mean_absolute_error: 0.0104 - val_loss: 1.2339e-04 - val_mean_absolute_error: 0.0081\n",
      "Epoch 50/80\n",
      "93/93 [==============================] - 5s 55ms/step - loss: 2.5290e-04 - mean_absolute_error: 0.0095 - val_loss: 1.6190e-04 - val_mean_absolute_error: 0.0096\n",
      "Epoch 51/80\n",
      "93/93 [==============================] - 5s 56ms/step - loss: 2.8196e-04 - mean_absolute_error: 0.0103 - val_loss: 1.4552e-04 - val_mean_absolute_error: 0.0091\n",
      "Epoch 52/80\n",
      "93/93 [==============================] - 6s 63ms/step - loss: 2.8179e-04 - mean_absolute_error: 0.0103 - val_loss: 1.1245e-04 - val_mean_absolute_error: 0.0074\n",
      "Epoch 53/80\n",
      "93/93 [==============================] - 5s 50ms/step - loss: 2.5809e-04 - mean_absolute_error: 0.0096 - val_loss: 1.2348e-04 - val_mean_absolute_error: 0.0080\n",
      "Epoch 54/80\n",
      "93/93 [==============================] - 5s 58ms/step - loss: 2.8893e-04 - mean_absolute_error: 0.0105 - val_loss: 1.1702e-04 - val_mean_absolute_error: 0.0077\n",
      "Epoch 55/80\n",
      "93/93 [==============================] - 5s 50ms/step - loss: 2.8993e-04 - mean_absolute_error: 0.0106 - val_loss: 1.9734e-04 - val_mean_absolute_error: 0.0110\n",
      "Epoch 56/80\n",
      "93/93 [==============================] - 5s 53ms/step - loss: 2.7199e-04 - mean_absolute_error: 0.0100 - val_loss: 1.1251e-04 - val_mean_absolute_error: 0.0075\n",
      "Epoch 57/80\n",
      "93/93 [==============================] - 5s 55ms/step - loss: 2.7780e-04 - mean_absolute_error: 0.0099 - val_loss: 1.2695e-04 - val_mean_absolute_error: 0.0082\n",
      "Epoch 58/80\n",
      "93/93 [==============================] - 5s 50ms/step - loss: 2.6422e-04 - mean_absolute_error: 0.0097 - val_loss: 1.2189e-04 - val_mean_absolute_error: 0.0079\n",
      "Epoch 59/80\n",
      "93/93 [==============================] - 4s 46ms/step - loss: 2.6442e-04 - mean_absolute_error: 0.0099 - val_loss: 1.2972e-04 - val_mean_absolute_error: 0.0086olute_error: 0.0\n",
      "Epoch 60/80\n",
      "93/93 [==============================] - 5s 50ms/step - loss: 2.4625e-04 - mean_absolute_error: 0.0091 - val_loss: 1.2115e-04 - val_mean_absolute_error: 0.0080\n",
      "Epoch 61/80\n",
      "93/93 [==============================] - 5s 51ms/step - loss: 2.4717e-04 - mean_absolute_error: 0.0092 - val_loss: 1.1090e-04 - val_mean_absolute_error: 0.0073\n",
      "Epoch 62/80\n",
      "93/93 [==============================] - 4s 39ms/step - loss: 2.3707e-04 - mean_absolute_error: 0.0088 - val_loss: 1.0506e-04 - val_mean_absolute_error: 0.0071\n",
      "Epoch 63/80\n",
      "93/93 [==============================] - 4s 41ms/step - loss: 2.8087e-04 - mean_absolute_error: 0.0099 - val_loss: 1.1555e-04 - val_mean_absolute_error: 0.0075\n",
      "Epoch 64/80\n",
      "93/93 [==============================] - 4s 46ms/step - loss: 2.5146e-04 - mean_absolute_error: 0.0094 - val_loss: 1.0789e-04 - val_mean_absolute_error: 0.0072\n",
      "Epoch 65/80\n",
      "93/93 [==============================] - 5s 49ms/step - loss: 2.5907e-04 - mean_absolute_error: 0.0096 - val_loss: 1.1450e-04 - val_mean_absolute_error: 0.0077\n",
      "Epoch 66/80\n",
      "93/93 [==============================] - 3s 38ms/step - loss: 2.3514e-04 - mean_absolute_error: 0.0089 - val_loss: 1.1915e-04 - val_mean_absolute_error: 0.0080\n",
      "Epoch 67/80\n",
      "93/93 [==============================] - 4s 42ms/step - loss: 2.6165e-04 - mean_absolute_error: 0.0095 - val_loss: 1.1163e-04 - val_mean_absolute_error: 0.0076\n",
      "Epoch 68/80\n",
      "93/93 [==============================] - 3s 33ms/step - loss: 2.4757e-04 - mean_absolute_error: 0.0091 - val_loss: 1.1308e-04 - val_mean_absolute_error: 0.0074\n",
      "Epoch 69/80\n",
      "93/93 [==============================] - 3s 33ms/step - loss: 2.5296e-04 - mean_absolute_error: 0.0093 - val_loss: 1.2056e-04 - val_mean_absolute_error: 0.0080\n",
      "Epoch 70/80\n",
      "93/93 [==============================] - 3s 34ms/step - loss: 2.4742e-04 - mean_absolute_error: 0.0091 - val_loss: 1.1401e-04 - val_mean_absolute_error: 0.0076\n",
      "Epoch 71/80\n",
      "93/93 [==============================] - 3s 34ms/step - loss: 2.5198e-04 - mean_absolute_error: 0.0094 - val_loss: 1.0960e-04 - val_mean_absolute_error: 0.0075\n",
      "Epoch 72/80\n",
      "93/93 [==============================] - 3s 35ms/step - loss: 2.3723e-04 - mean_absolute_error: 0.0090 - val_loss: 1.0208e-04 - val_mean_absolute_error: 0.0070\n",
      "Epoch 73/80\n",
      "93/93 [==============================] - 4s 40ms/step - loss: 2.7498e-04 - mean_absolute_error: 0.0099 - val_loss: 1.0280e-04 - val_mean_absolute_error: 0.0070\n",
      "Epoch 74/80\n",
      "93/93 [==============================] - 5s 49ms/step - loss: 2.4006e-04 - mean_absolute_error: 0.0089 - val_loss: 9.9745e-05 - val_mean_absolute_error: 0.0069\n",
      "Epoch 75/80\n",
      "93/93 [==============================] - 4s 41ms/step - loss: 2.5962e-04 - mean_absolute_error: 0.0096 - val_loss: 1.3333e-04 - val_mean_absolute_error: 0.0085\n",
      "Epoch 76/80\n",
      "93/93 [==============================] - 4s 40ms/step - loss: 2.5334e-04 - mean_absolute_error: 0.0093 - val_loss: 1.0132e-04 - val_mean_absolute_error: 0.0069\n",
      "Epoch 77/80\n",
      "93/93 [==============================] - 4s 38ms/step - loss: 2.3737e-04 - mean_absolute_error: 0.0088 - val_loss: 1.0075e-04 - val_mean_absolute_error: 0.0069\n",
      "Epoch 78/80\n",
      "93/93 [==============================] - 4s 44ms/step - loss: 2.7252e-04 - mean_absolute_error: 0.0099 - val_loss: 9.7691e-05 - val_mean_absolute_error: 0.0067\n",
      "Epoch 79/80\n",
      "93/93 [==============================] - 5s 56ms/step - loss: 2.4347e-04 - mean_absolute_error: 0.0091 - val_loss: 1.0775e-04 - val_mean_absolute_error: 0.0072\n",
      "Epoch 80/80\n",
      "93/93 [==============================] - 4s 44ms/step - loss: 2.7800e-04 - mean_absolute_error: 0.0103 - val_loss: 1.4915e-04 - val_mean_absolute_error: 0.0096\n"
     ]
    }
   ],
   "source": [
    "models.fit(train_seq, train_label, epochs=80,validation_data=(test_seq, test_label), verbose=1)\n",
    "test_predicted = models.predict(test_seq)"
   ]
  },
  {
   "cell_type": "code",
   "execution_count": 18,
   "id": "5e970346",
   "metadata": {},
   "outputs": [],
   "source": [
    "# from sklearn.preprocessing import MinMaxScaler\n",
    "# MMS = MinMaxScaler()\n",
    "test_inverse_predicted = Ms.inverse_transform(test_predicted)"
   ]
  },
  {
   "cell_type": "code",
   "execution_count": 19,
   "id": "c0e97dca",
   "metadata": {},
   "outputs": [
    {
     "data": {
      "text/html": [
       "<div>\n",
       "<style scoped>\n",
       "    .dataframe tbody tr th:only-of-type {\n",
       "        vertical-align: middle;\n",
       "    }\n",
       "\n",
       "    .dataframe tbody tr th {\n",
       "        vertical-align: top;\n",
       "    }\n",
       "\n",
       "    .dataframe thead th {\n",
       "        text-align: right;\n",
       "    }\n",
       "</style>\n",
       "<table border=\"1\" class=\"dataframe\">\n",
       "  <thead>\n",
       "    <tr style=\"text-align: right;\">\n",
       "      <th></th>\n",
       "      <th>Open</th>\n",
       "      <th>Close</th>\n",
       "    </tr>\n",
       "    <tr>\n",
       "      <th>Date</th>\n",
       "      <th></th>\n",
       "      <th></th>\n",
       "    </tr>\n",
       "  </thead>\n",
       "  <tbody>\n",
       "    <tr>\n",
       "      <th>2014-07-21</th>\n",
       "      <td>0.744514</td>\n",
       "      <td>0.730293</td>\n",
       "    </tr>\n",
       "    <tr>\n",
       "      <th>2014-07-18</th>\n",
       "      <td>0.742617</td>\n",
       "      <td>0.747025</td>\n",
       "    </tr>\n",
       "    <tr>\n",
       "      <th>2014-07-17</th>\n",
       "      <td>0.755071</td>\n",
       "      <td>0.750324</td>\n",
       "    </tr>\n",
       "    <tr>\n",
       "      <th>2014-07-16</th>\n",
       "      <td>0.748191</td>\n",
       "      <td>0.765406</td>\n",
       "    </tr>\n",
       "    <tr>\n",
       "      <th>2014-07-15</th>\n",
       "      <td>0.754478</td>\n",
       "      <td>0.749735</td>\n",
       "    </tr>\n",
       "    <tr>\n",
       "      <th>...</th>\n",
       "      <td>...</td>\n",
       "      <td>...</td>\n",
       "    </tr>\n",
       "    <tr>\n",
       "      <th>2000-07-01</th>\n",
       "      <td>0.330447</td>\n",
       "      <td>0.354071</td>\n",
       "    </tr>\n",
       "    <tr>\n",
       "      <th>2000-06-01</th>\n",
       "      <td>0.309453</td>\n",
       "      <td>0.330859</td>\n",
       "    </tr>\n",
       "    <tr>\n",
       "      <th>2000-05-01</th>\n",
       "      <td>0.311351</td>\n",
       "      <td>0.315777</td>\n",
       "    </tr>\n",
       "    <tr>\n",
       "      <th>2000-04-01</th>\n",
       "      <td>0.345273</td>\n",
       "      <td>0.328738</td>\n",
       "    </tr>\n",
       "    <tr>\n",
       "      <th>2000-03-01</th>\n",
       "      <td>0.379670</td>\n",
       "      <td>0.351125</td>\n",
       "    </tr>\n",
       "  </tbody>\n",
       "</table>\n",
       "<p>3767 rows × 2 columns</p>\n",
       "</div>"
      ],
      "text/plain": [
       "                Open     Close\n",
       "Date                          \n",
       "2014-07-21  0.744514  0.730293\n",
       "2014-07-18  0.742617  0.747025\n",
       "2014-07-17  0.755071  0.750324\n",
       "2014-07-16  0.748191  0.765406\n",
       "2014-07-15  0.754478  0.749735\n",
       "...              ...       ...\n",
       "2000-07-01  0.330447  0.354071\n",
       "2000-06-01  0.309453  0.330859\n",
       "2000-05-01  0.311351  0.315777\n",
       "2000-04-01  0.345273  0.328738\n",
       "2000-03-01  0.379670  0.351125\n",
       "\n",
       "[3767 rows x 2 columns]"
      ]
     },
     "execution_count": 19,
     "metadata": {},
     "output_type": "execute_result"
    }
   ],
   "source": [
    "mystock_data"
   ]
  },
  {
   "cell_type": "code",
   "execution_count": 20,
   "id": "5cf48e6e",
   "metadata": {},
   "outputs": [
    {
     "data": {
      "text/plain": [
       "(703, 2)"
      ]
     },
     "execution_count": 20,
     "metadata": {},
     "output_type": "execute_result"
    }
   ],
   "source": [
    "test_inverse_predicted.shape"
   ]
  },
  {
   "cell_type": "code",
   "execution_count": 21,
   "id": "1978db81",
   "metadata": {},
   "outputs": [
    {
     "data": {
      "text/html": [
       "<div>\n",
       "<style scoped>\n",
       "    .dataframe tbody tr th:only-of-type {\n",
       "        vertical-align: middle;\n",
       "    }\n",
       "\n",
       "    .dataframe tbody tr th {\n",
       "        vertical-align: top;\n",
       "    }\n",
       "\n",
       "    .dataframe thead th {\n",
       "        text-align: right;\n",
       "    }\n",
       "</style>\n",
       "<table border=\"1\" class=\"dataframe\">\n",
       "  <thead>\n",
       "    <tr style=\"text-align: right;\">\n",
       "      <th></th>\n",
       "      <th>Open</th>\n",
       "      <th>Close</th>\n",
       "      <th>open_predicted</th>\n",
       "      <th>close_predicted</th>\n",
       "    </tr>\n",
       "    <tr>\n",
       "      <th>Date</th>\n",
       "      <th></th>\n",
       "      <th></th>\n",
       "      <th></th>\n",
       "      <th></th>\n",
       "    </tr>\n",
       "  </thead>\n",
       "  <tbody>\n",
       "    <tr>\n",
       "      <th>2002-09-16</th>\n",
       "      <td>0.238999</td>\n",
       "      <td>0.246495</td>\n",
       "      <td>41.085514</td>\n",
       "      <td>41.184917</td>\n",
       "    </tr>\n",
       "    <tr>\n",
       "      <th>2002-09-13</th>\n",
       "      <td>0.231882</td>\n",
       "      <td>0.239189</td>\n",
       "      <td>41.462727</td>\n",
       "      <td>41.557953</td>\n",
       "    </tr>\n",
       "    <tr>\n",
       "      <th>2002-12-09</th>\n",
       "      <td>0.247776</td>\n",
       "      <td>0.243078</td>\n",
       "      <td>40.954514</td>\n",
       "      <td>41.045227</td>\n",
       "    </tr>\n",
       "    <tr>\n",
       "      <th>2002-11-09</th>\n",
       "      <td>0.242083</td>\n",
       "      <td>0.256274</td>\n",
       "      <td>41.624691</td>\n",
       "      <td>41.724552</td>\n",
       "    </tr>\n",
       "    <tr>\n",
       "      <th>2002-10-09</th>\n",
       "      <td>0.239711</td>\n",
       "      <td>0.244727</td>\n",
       "      <td>41.809521</td>\n",
       "      <td>41.913624</td>\n",
       "    </tr>\n",
       "  </tbody>\n",
       "</table>\n",
       "</div>"
      ],
      "text/plain": [
       "                Open     Close  open_predicted  close_predicted\n",
       "Date                                                           \n",
       "2002-09-16  0.238999  0.246495       41.085514        41.184917\n",
       "2002-09-13  0.231882  0.239189       41.462727        41.557953\n",
       "2002-12-09  0.247776  0.243078       40.954514        41.045227\n",
       "2002-11-09  0.242083  0.256274       41.624691        41.724552\n",
       "2002-10-09  0.239711  0.244727       41.809521        41.913624"
      ]
     },
     "execution_count": 21,
     "metadata": {},
     "output_type": "execute_result"
    }
   ],
   "source": [
    "# Merging actual and predicted data for better visualization\n",
    "gs_slic_data = pd.concat([mystock_data.iloc[-703:].copy(),pd.DataFrame(test_inverse_predicted,columns=['open_predicted','close_predicted'],index=mystock_data.iloc[-703:].index)], axis=1)\n",
    "gs_slic_data.head()"
   ]
  },
  {
   "cell_type": "code",
   "execution_count": 22,
   "id": "f815acf9",
   "metadata": {},
   "outputs": [
    {
     "data": {
      "text/html": [
       "<div>\n",
       "<style scoped>\n",
       "    .dataframe tbody tr th:only-of-type {\n",
       "        vertical-align: middle;\n",
       "    }\n",
       "\n",
       "    .dataframe tbody tr th {\n",
       "        vertical-align: top;\n",
       "    }\n",
       "\n",
       "    .dataframe thead th {\n",
       "        text-align: right;\n",
       "    }\n",
       "</style>\n",
       "<table border=\"1\" class=\"dataframe\">\n",
       "  <thead>\n",
       "    <tr style=\"text-align: right;\">\n",
       "      <th></th>\n",
       "      <th>Open</th>\n",
       "      <th>Close</th>\n",
       "      <th>open_predicted</th>\n",
       "      <th>close_predicted</th>\n",
       "    </tr>\n",
       "    <tr>\n",
       "      <th>Date</th>\n",
       "      <th></th>\n",
       "      <th></th>\n",
       "      <th></th>\n",
       "      <th></th>\n",
       "    </tr>\n",
       "  </thead>\n",
       "  <tbody>\n",
       "    <tr>\n",
       "      <th>2002-09-16</th>\n",
       "      <td>40.84</td>\n",
       "      <td>40.87</td>\n",
       "      <td>41.085514</td>\n",
       "      <td>41.184917</td>\n",
       "    </tr>\n",
       "    <tr>\n",
       "      <th>2002-09-13</th>\n",
       "      <td>40.24</td>\n",
       "      <td>40.25</td>\n",
       "      <td>41.462727</td>\n",
       "      <td>41.557953</td>\n",
       "    </tr>\n",
       "    <tr>\n",
       "      <th>2002-12-09</th>\n",
       "      <td>41.58</td>\n",
       "      <td>40.58</td>\n",
       "      <td>40.954514</td>\n",
       "      <td>41.045227</td>\n",
       "    </tr>\n",
       "    <tr>\n",
       "      <th>2002-11-09</th>\n",
       "      <td>41.10</td>\n",
       "      <td>41.70</td>\n",
       "      <td>41.624691</td>\n",
       "      <td>41.724552</td>\n",
       "    </tr>\n",
       "    <tr>\n",
       "      <th>2002-10-09</th>\n",
       "      <td>40.90</td>\n",
       "      <td>40.72</td>\n",
       "      <td>41.809521</td>\n",
       "      <td>41.913624</td>\n",
       "    </tr>\n",
       "  </tbody>\n",
       "</table>\n",
       "</div>"
      ],
      "text/plain": [
       "             Open  Close  open_predicted  close_predicted\n",
       "Date                                                     \n",
       "2002-09-16  40.84  40.87       41.085514        41.184917\n",
       "2002-09-13  40.24  40.25       41.462727        41.557953\n",
       "2002-12-09  41.58  40.58       40.954514        41.045227\n",
       "2002-11-09  41.10  41.70       41.624691        41.724552\n",
       "2002-10-09  40.90  40.72       41.809521        41.913624"
      ]
     },
     "execution_count": 22,
     "metadata": {},
     "output_type": "execute_result"
    }
   ],
   "source": [
    "gs_slic_data[['Open','Close']] = Ms.inverse_transform(gs_slic_data[['Open','Close']])\n",
    "gs_slic_data.head()"
   ]
  },
  {
   "cell_type": "code",
   "execution_count": 23,
   "id": "63748bdd",
   "metadata": {},
   "outputs": [],
   "source": [
    "import matplotlib.pyplot as plt"
   ]
  },
  {
   "cell_type": "code",
   "execution_count": 24,
   "id": "239767b8",
   "metadata": {},
   "outputs": [
    {
     "data": {
      "image/png": "[encoded data removed]",
      "text/plain": [
       "<Figure size 720x432 with 1 Axes>"
      ]
     },
     "metadata": {
      "needs_background": "light"
     },
     "output_type": "display_data"
    }
   ],
   "source": [
    "gs_slic_data[['Open','open_predicted']].plot(figsize=(10,6))\n",
    "plt.xticks(rotation=45)\n",
    "plt.xlabel(\"Date\",size=15)\n",
    "plt.ylabel(\"Stock Price\",size=15)\n",
    "plt.title(\"Actual vs Predicted for close price\",size=15)\n",
    "plt.show()"
   ]
  },
  {
   "cell_type": "code",
   "execution_count": 25,
   "id": "3907b04f",
   "metadata": {},
   "outputs": [
    {
     "data": {
      "image/png": "[encoded data removed]",
      "text/plain": [
       "<Figure size 720x432 with 1 Axes>"
      ]
     },
     "metadata": {
      "needs_background": "light"
     },
     "output_type": "display_data"
    }
   ],
   "source": [
    "gs_slic_data[['Close','close_predicted']].plot(figsize=(10,6))\n",
    "plt.xticks(rotation=45)\n",
    "plt.xlabel(\"Date\",size=15)\n",
    "plt.ylabel(\"Stock Price\",size=15)\n",
    "plt.title(\"Actual vs Predicted for close price\",size=15)\n",
    "plt.show()"
   ]
  },
  {
   "cell_type": "code",
   "execution_count": null,
   "id": "09bc26c8",
   "metadata": {},
   "outputs": [],
   "source": []
  },
  {
   "cell_type": "code",
   "execution_count": null,
   "id": "57cef910",
   "metadata": {},
   "outputs": [],
   "source": []
  },
  {
   "cell_type": "code",
   "execution_count": null,
   "id": "966107a8",
   "metadata": {},
   "outputs": [],
   "source": []
  }
 ],
 "metadata": {
  "kernelspec": {
   "display_name": "Python 3",
   "language": "python",
   "name": "python3"
  }
 },
 "nbformat": 4,
 "nbformat_minor": 5
}
